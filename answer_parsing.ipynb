{
 "cells": [
  {
   "cell_type": "markdown",
   "metadata": {},
   "source": [
    "11번 정답지 파싱"
   ]
  },
  {
   "cell_type": "code",
   "execution_count": 18,
   "metadata": {},
   "outputs": [],
   "source": [
    "import pandas as pd\n",
    "import json\n",
    "import re\n",
    "\n",
    "# 파일 경로 설정\n",
    "xlsx_path = \"4_990027_(주)대한항공_개별.xls\"  \n",
    "json_path = \"report/parsed_11.json\"\n",
    "\n",
    "# 엑셀 파일 불러오기\n",
    "df = pd.read_excel(xlsx_path, dtype=str)\n",
    "\n",
    "# 필요한 열만 추출\n",
    "df = df[[\"계정코드\", \"계정명\", \"20241231 K 원\"]].copy()\n",
    "\n",
    "# 계정코드가 11으로 시작하고 금액이 null이 아닌 행 필터링\n",
    "df = df[df[\"계정코드\"].str.startswith(\"11\")]\n",
    "df = df[df[\"20241231 K 원\"].notnull()]\n",
    "\n",
    "# 계정명에 대괄호([]) 포함된 행 제거\n",
    "df = df[~df[\"계정명\"].str.contains(r\"[\\[\\]]\", regex=True)]\n",
    "\n",
    "# JSON 파일 로드\n",
    "with open(json_path, \"r\", encoding=\"utf-8\") as f:\n",
    "    json_data = json.load(f)\n",
    "\n",
    "# 항목코드와 항목명 매핑\n",
    "code_to_label = {code.strip(): value[\"label\"] for code, value in json_data.items()}\n",
    "\n",
    "# 계정코드에서 앞 두 자리를 제외한 뒤 JSON 계정명으로 매핑\n",
    "def map_code_to_label(full_code):\n",
    "    short_code = full_code[2:]  # 예: 113199 → 3199\n",
    "    return code_to_label.get(short_code)\n",
    "\n",
    "df[\"계정명\"] = df[\"계정코드\"].apply(map_code_to_label)\n",
    "\n",
    "# 매핑 실패(None) 제거\n",
    "df = df[df[\"계정명\"].notnull()]\n",
    "\n",
    "# 결과 저장\n",
    "df.to_excel(\"쩡만이채점/대한항공/answer/koreanair_11_2024.xlsx\", index=False)"
   ]
  },
  {
   "cell_type": "markdown",
   "metadata": {},
   "source": [
    "12, 13, 16번 정답지 파싱"
   ]
  },
  {
   "cell_type": "code",
   "execution_count": 28,
   "metadata": {},
   "outputs": [
    {
     "data": {
      "application/vnd.microsoft.datawrangler.viewer.v0+json": {
       "columns": [
        {
         "name": "index",
         "rawType": "int64",
         "type": "integer"
        },
        {
         "name": "계정코드",
         "rawType": "object",
         "type": "string"
        },
        {
         "name": "계정명",
         "rawType": "object",
         "type": "string"
        },
        {
         "name": "20231231 K 원",
         "rawType": "object",
         "type": "string"
        }
       ],
       "ref": "a718098f-0d18-486c-94d9-a0a64ba33adf",
       "rows": [
        [
         "309",
         "121000",
         "수익",
         "14,575,109,042,426"
        ],
        [
         "310",
         "121100",
         "수익|총수익",
         "14,575,109,042,426"
        ],
        [
         "313",
         "121120",
         "수익|총수익|제품판매로인한수익",
         "14,575,109,042,426"
        ],
        [
         "320",
         "122000",
         "매출원가",
         "11,663,969,717,208"
        ],
        [
         "321",
         "122200",
         "매출원가|제품매출원가",
         "11,663,969,717,208"
        ]
       ],
       "shape": {
        "columns": 3,
        "rows": 5
       }
      },
      "text/html": [
       "<div>\n",
       "<style scoped>\n",
       "    .dataframe tbody tr th:only-of-type {\n",
       "        vertical-align: middle;\n",
       "    }\n",
       "\n",
       "    .dataframe tbody tr th {\n",
       "        vertical-align: top;\n",
       "    }\n",
       "\n",
       "    .dataframe thead th {\n",
       "        text-align: right;\n",
       "    }\n",
       "</style>\n",
       "<table border=\"1\" class=\"dataframe\">\n",
       "  <thead>\n",
       "    <tr style=\"text-align: right;\">\n",
       "      <th></th>\n",
       "      <th>계정코드</th>\n",
       "      <th>계정명</th>\n",
       "      <th>20231231 K 원</th>\n",
       "    </tr>\n",
       "  </thead>\n",
       "  <tbody>\n",
       "    <tr>\n",
       "      <th>309</th>\n",
       "      <td>121000</td>\n",
       "      <td>수익</td>\n",
       "      <td>14,575,109,042,426</td>\n",
       "    </tr>\n",
       "    <tr>\n",
       "      <th>310</th>\n",
       "      <td>121100</td>\n",
       "      <td>수익|총수익</td>\n",
       "      <td>14,575,109,042,426</td>\n",
       "    </tr>\n",
       "    <tr>\n",
       "      <th>313</th>\n",
       "      <td>121120</td>\n",
       "      <td>수익|총수익|제품판매로인한수익</td>\n",
       "      <td>14,575,109,042,426</td>\n",
       "    </tr>\n",
       "    <tr>\n",
       "      <th>320</th>\n",
       "      <td>122000</td>\n",
       "      <td>매출원가</td>\n",
       "      <td>11,663,969,717,208</td>\n",
       "    </tr>\n",
       "    <tr>\n",
       "      <th>321</th>\n",
       "      <td>122200</td>\n",
       "      <td>매출원가|제품매출원가</td>\n",
       "      <td>11,663,969,717,208</td>\n",
       "    </tr>\n",
       "  </tbody>\n",
       "</table>\n",
       "</div>"
      ],
      "text/plain": [
       "       계정코드               계정명        20231231 K 원\n",
       "309  121000                수익  14,575,109,042,426\n",
       "310  121100            수익|총수익  14,575,109,042,426\n",
       "313  121120  수익|총수익|제품판매로인한수익  14,575,109,042,426\n",
       "320  122000              매출원가  11,663,969,717,208\n",
       "321  122200       매출원가|제품매출원가  11,663,969,717,208"
      ]
     },
     "execution_count": 28,
     "metadata": {},
     "output_type": "execute_result"
    }
   ],
   "source": [
    "import pandas as pd\n",
    "import json\n",
    "import re\n",
    "\n",
    "# 파일 경로 설정\n",
    "xlsx_path = \"4_990027_(주)대한항공_개별.xls\"  \n",
    "json_path = \"report/parsed_12.json\"\n",
    "\n",
    "# 엑셀 파일 불러오기\n",
    "df = pd.read_excel(xlsx_path, dtype=str)\n",
    "\n",
    "# 필요한 열만 추출\n",
    "df = df[[\"계정코드\", \"계정명\", \"20231231 K 원\"]].copy()\n",
    "\n",
    "# 계정코드가 11으로 시작하고 금액이 null이 아닌 행 필터링\n",
    "df = df[df[\"계정코드\"].str.startswith(\"12\")]\n",
    "df = df[df[\"20231231 K 원\"].notnull()]\n",
    "\n",
    "# 계정명에 대괄호([]) 포함된 행 제거\n",
    "df = df[~df[\"계정명\"].str.contains(r\"[\\[\\]]\", regex=True)]\n",
    "\n",
    "# JSON 파일 로드\n",
    "with open(json_path, \"r\", encoding=\"utf-8\") as f:\n",
    "    json_data = json.load(f)\n",
    "\n",
    "# 항목코드와 항목명 매핑\n",
    "code_to_label = {code.strip(): value[\"항목명\"] for code, value in json_data.items()}\n",
    "\n",
    "# 계정코드에서 앞 두 자리를 제외한 뒤 JSON 계정명으로 매핑\n",
    "def map_code_to_label(full_code):\n",
    "    short_code = full_code[2:]  # 예: 113199 → 3199\n",
    "    return code_to_label.get(short_code)\n",
    "\n",
    "df[\"계정명\"] = df[\"계정코드\"].apply(map_code_to_label)\n",
    "\n",
    "# 매핑 실패(None) 제거\n",
    "df = df[df[\"계정명\"].notnull()]\n",
    "\n",
    "# 결과 저장\n",
    "df.to_excel(\"쩡만이채점/대한항공/answer/koreanair_12_2023.xlsx\", index=False)\n",
    "df.head()"
   ]
  },
  {
   "cell_type": "markdown",
   "metadata": {},
   "source": [
    "26번 정답지 파싱"
   ]
  },
  {
   "cell_type": "code",
   "execution_count": 30,
   "metadata": {},
   "outputs": [
    {
     "data": {
      "application/vnd.microsoft.datawrangler.viewer.v0+json": {
       "columns": [
        {
         "name": "index",
         "rawType": "int64",
         "type": "integer"
        },
        {
         "name": "계정코드",
         "rawType": "object",
         "type": "string"
        },
        {
         "name": "계정명",
         "rawType": "object",
         "type": "string"
        },
        {
         "name": "20231231 K 원",
         "rawType": "object",
         "type": "string"
        }
       ],
       "ref": "b6f91f7e-9434-453b-8249-2da43e9e3667",
       "rows": [
        [
         "755",
         "261000",
         "기말납입자본|기초납입자본",
         "1,846,657,275,000"
        ],
        [
         "759",
         "261900",
         "기말납입자본",
         "1,846,657,275,000"
        ],
        [
         "760",
         "263000",
         "기초이익잉여금수정|기초이익잉여금",
         "2,452,869,869,398"
        ],
        [
         "763",
         "263013",
         "처분후이익잉여금|수정후이익잉여금",
         "2,452,869,869,398"
        ],
        [
         "764",
         "263230",
         "처분후이익잉여금|연차배당",
         "-277,054,095,600"
        ]
       ],
       "shape": {
        "columns": 3,
        "rows": 5
       }
      },
      "text/html": [
       "<div>\n",
       "<style scoped>\n",
       "    .dataframe tbody tr th:only-of-type {\n",
       "        vertical-align: middle;\n",
       "    }\n",
       "\n",
       "    .dataframe tbody tr th {\n",
       "        vertical-align: top;\n",
       "    }\n",
       "\n",
       "    .dataframe thead th {\n",
       "        text-align: right;\n",
       "    }\n",
       "</style>\n",
       "<table border=\"1\" class=\"dataframe\">\n",
       "  <thead>\n",
       "    <tr style=\"text-align: right;\">\n",
       "      <th></th>\n",
       "      <th>계정코드</th>\n",
       "      <th>계정명</th>\n",
       "      <th>20231231 K 원</th>\n",
       "    </tr>\n",
       "  </thead>\n",
       "  <tbody>\n",
       "    <tr>\n",
       "      <th>755</th>\n",
       "      <td>261000</td>\n",
       "      <td>기말납입자본|기초납입자본</td>\n",
       "      <td>1,846,657,275,000</td>\n",
       "    </tr>\n",
       "    <tr>\n",
       "      <th>759</th>\n",
       "      <td>261900</td>\n",
       "      <td>기말납입자본</td>\n",
       "      <td>1,846,657,275,000</td>\n",
       "    </tr>\n",
       "    <tr>\n",
       "      <th>760</th>\n",
       "      <td>263000</td>\n",
       "      <td>기초이익잉여금수정|기초이익잉여금</td>\n",
       "      <td>2,452,869,869,398</td>\n",
       "    </tr>\n",
       "    <tr>\n",
       "      <th>763</th>\n",
       "      <td>263013</td>\n",
       "      <td>처분후이익잉여금|수정후이익잉여금</td>\n",
       "      <td>2,452,869,869,398</td>\n",
       "    </tr>\n",
       "    <tr>\n",
       "      <th>764</th>\n",
       "      <td>263230</td>\n",
       "      <td>처분후이익잉여금|연차배당</td>\n",
       "      <td>-277,054,095,600</td>\n",
       "    </tr>\n",
       "  </tbody>\n",
       "</table>\n",
       "</div>"
      ],
      "text/plain": [
       "       계정코드                계정명       20231231 K 원\n",
       "755  261000      기말납입자본|기초납입자본  1,846,657,275,000\n",
       "759  261900             기말납입자본  1,846,657,275,000\n",
       "760  263000  기초이익잉여금수정|기초이익잉여금  2,452,869,869,398\n",
       "763  263013  처분후이익잉여금|수정후이익잉여금  2,452,869,869,398\n",
       "764  263230      처분후이익잉여금|연차배당   -277,054,095,600"
      ]
     },
     "execution_count": 30,
     "metadata": {},
     "output_type": "execute_result"
    }
   ],
   "source": [
    "import pandas as pd\n",
    "import json\n",
    "import re\n",
    "\n",
    "# 파일 경로 설정\n",
    "xlsx_path = \"4_990027_(주)대한항공_개별.xls\"  \n",
    "json_path = \"report/parsed_26.json\"\n",
    "\n",
    "# 엑셀 파일 불러오기\n",
    "df = pd.read_excel(xlsx_path, dtype=str)\n",
    "\n",
    "# 필요한 열만 추출\n",
    "df = df[[\"계정코드\", \"계정명\", \"20231231 K 원\"]].copy()\n",
    "\n",
    "# 계정코드가 11으로 시작하고 금액이 null이 아닌 행 필터링\n",
    "df = df[df[\"계정코드\"].str.startswith(\"26\")]\n",
    "df = df[df[\"20231231 K 원\"].notnull()]\n",
    "\n",
    "# 계정명에 대괄호([]) 포함된 행 제거\n",
    "df = df[~df[\"계정명\"].str.contains(r\"[\\[\\]]\", regex=True)]\n",
    "\n",
    "# JSON 파일 로드\n",
    "with open(json_path, \"r\", encoding=\"utf-8\") as f:\n",
    "    json_data = json.load(f)\n",
    "\n",
    "# 항목코드와 항목명 매핑\n",
    "code_to_label = {code.strip(): value[\"label\"] for code, value in json_data.items()}\n",
    "\n",
    "# 계정코드에서 앞 두 자리를 제외한 뒤 JSON 계정명으로 매핑\n",
    "#def map_code_to_label(full_code):\n",
    "#    short_code = full_code[2:]  # 예: 113199 → 3199\n",
    "#    return code_to_label.get(short_code)\n",
    "\n",
    "df[\"계정명\"] = df[\"계정코드\"].map(code_to_label)\n",
    "\n",
    "# 매핑 실패(None) 제거\n",
    "df = df[df[\"계정명\"].notnull()]\n",
    "\n",
    "# 결과 저장\n",
    "df.to_excel(\"쩡만이채점/대한항공/answer/koreanair_26_2023.xlsx\", index=False)\n",
    "df.head()"
   ]
  },
  {
   "cell_type": "markdown",
   "metadata": {},
   "source": [
    "11번 문제지 파싱 "
   ]
  },
  {
   "cell_type": "code",
   "execution_count": 38,
   "metadata": {},
   "outputs": [],
   "source": [
    "import pandas as pd\n",
    "import json\n",
    "\n",
    "# 엑셀 파일 불러오기\n",
    "df = pd.read_excel(\"12_CR5134_(주)골프존_개별.xls\", dtype=str)\n",
    "\n",
    "# '계정코드'가 11로 시작하는 행만 필터링\n",
    "df_filtered = df[df[\"계정코드\"].str.startswith(\"11\")][[\"계정코드\"]].dropna()\n",
    "\n",
    "# JSON 파일 로드\n",
    "with open(\"report/parsed_11.json\", \"r\", encoding=\"utf-8\") as f:\n",
    "    parsed_json = json.load(f)\n",
    "\n",
    "# 계정코드 매핑: 앞 두 자리('11') 제거 후 JSON에서 항목명 찾기\n",
    "result = {}\n",
    "for code in df_filtered[\"계정코드\"]:\n",
    "    stripped_code = code[2:]  # 예: '113199' → '3199'\n",
    "    항목 = parsed_json.get(stripped_code)\n",
    "    if 항목 and \"label\" in 항목:\n",
    "        result[code] = {\"label\": 항목[\"label\"]}\n",
    "\n",
    "# 저장\n",
    "with open(\"쩡만이채점/대한항공/report/golfzone_11.json\", \"w\", encoding=\"utf-8\") as f:\n",
    "    json.dump(result, f, ensure_ascii=False, indent=2)"
   ]
  },
  {
   "cell_type": "markdown",
   "metadata": {},
   "source": [
    "12, 13, 16번 문제지 파싱"
   ]
  },
  {
   "cell_type": "code",
   "execution_count": 40,
   "metadata": {},
   "outputs": [],
   "source": [
    "import pandas as pd\n",
    "import json\n",
    "\n",
    "# 엑셀 파일 불러오기\n",
    "df = pd.read_excel(\"12_CR5134_(주)골프존_개별.xls\", dtype=str)\n",
    "\n",
    "# '계정코드'가 11로 시작하는 행만 필터링\n",
    "df_filtered = df[df[\"계정코드\"].str.startswith(\"16\")][[\"계정코드\"]].dropna()\n",
    "\n",
    "# JSON 파일 로드\n",
    "with open(\"report/parsed_16.json\", \"r\", encoding=\"utf-8\") as f:\n",
    "    parsed_json = json.load(f)\n",
    "\n",
    "# 계정코드 매핑: 앞 두 자리('11') 제거 후 JSON에서 항목명 찾기\n",
    "result = {}\n",
    "for code in df_filtered[\"계정코드\"]:\n",
    "    stripped_code = code[2:]  # 예: '113199' → '3199'\n",
    "    항목 = parsed_json.get(stripped_code)\n",
    "    if 항목 and \"항목명\" in 항목:\n",
    "        result[code] = {\"항목명\": 항목[\"항목명\"]}\n",
    "\n",
    "# 저장\n",
    "with open(\"쩡만이채점/대한항공/report/golfzone_16.json\", \"w\", encoding=\"utf-8\") as f:\n",
    "    json.dump(result, f, ensure_ascii=False, indent=2)"
   ]
  },
  {
   "cell_type": "markdown",
   "metadata": {},
   "source": [
    "26번 문제지 파싱"
   ]
  },
  {
   "cell_type": "code",
   "execution_count": 36,
   "metadata": {},
   "outputs": [],
   "source": [
    "import pandas as pd\n",
    "import json\n",
    "\n",
    "# 엑셀 파일 불러오기\n",
    "df = pd.read_excel(\"4_990027_(주)대한항공_개별.xls\", dtype=str)\n",
    "\n",
    "# '계정코드'가 11로 시작하는 행만 필터링\n",
    "df_filtered = df[df[\"계정코드\"].str.startswith(\"26\")][[\"계정코드\"]].dropna()\n",
    "\n",
    "# JSON 파일 로드\n",
    "with open(\"report/parsed_26.json\", \"r\", encoding=\"utf-8\") as f:\n",
    "    parsed_json = json.load(f)\n",
    "\n",
    "# 계정코드 매핑: 앞 두 자리('11') 제거 후 JSON에서 항목명 찾기\n",
    "result = {}\n",
    "for code in df_filtered[\"계정코드\"]:\n",
    "#    stripped_code = code[2:]  # 예: '113199' → '3199'\n",
    "    항목 = parsed_json.get(code)\n",
    "    if 항목 and \"label\" in 항목:\n",
    "        result[code] = {\"label\": 항목[\"label\"]}\n",
    "\n",
    "# 저장\n",
    "with open(\"쩡만이채점/대한항공/report/koreanair_26.json\", \"w\", encoding=\"utf-8\") as f:\n",
    "    json.dump(result, f, ensure_ascii=False, indent=2)"
   ]
  },
  {
   "cell_type": "code",
   "execution_count": null,
   "metadata": {},
   "outputs": [],
   "source": []
  }
 ],
 "metadata": {
  "kernelspec": {
   "display_name": "jm",
   "language": "python",
   "name": "python3"
  },
  "language_info": {
   "codemirror_mode": {
    "name": "ipython",
    "version": 3
   },
   "file_extension": ".py",
   "mimetype": "text/x-python",
   "name": "python",
   "nbconvert_exporter": "python",
   "pygments_lexer": "ipython3",
   "version": "3.10.13"
  }
 },
 "nbformat": 4,
 "nbformat_minor": 2
}
